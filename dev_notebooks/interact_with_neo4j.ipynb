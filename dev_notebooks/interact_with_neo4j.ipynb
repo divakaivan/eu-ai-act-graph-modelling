{
 "cells": [
  {
   "cell_type": "code",
   "execution_count": 1,
   "metadata": {},
   "outputs": [],
   "source": [
    "import pandas as pd\n",
    "\n",
    "annexes = pd.read_csv('annexes.csv')\n",
    "articles = pd.read_csv('articles.csv')\n",
    "recitals = pd.read_csv('recitals.csv')"
   ]
  },
  {
   "cell_type": "code",
   "execution_count": 2,
   "metadata": {},
   "outputs": [
    {
     "data": {
      "text/html": [
       "<div>\n",
       "<style scoped>\n",
       "    .dataframe tbody tr th:only-of-type {\n",
       "        vertical-align: middle;\n",
       "    }\n",
       "\n",
       "    .dataframe tbody tr th {\n",
       "        vertical-align: top;\n",
       "    }\n",
       "\n",
       "    .dataframe thead th {\n",
       "        text-align: right;\n",
       "    }\n",
       "</style>\n",
       "<table border=\"1\" class=\"dataframe\">\n",
       "  <thead>\n",
       "    <tr style=\"text-align: right;\">\n",
       "      <th></th>\n",
       "      <th>summary</th>\n",
       "      <th>title</th>\n",
       "      <th>full_text</th>\n",
       "      <th>related_recitals</th>\n",
       "      <th>token_count</th>\n",
       "      <th>mentioned_articles</th>\n",
       "      <th>mentioned_annexes</th>\n",
       "      <th>mentioned_recitals</th>\n",
       "      <th>type</th>\n",
       "    </tr>\n",
       "  </thead>\n",
       "  <tbody>\n",
       "    <tr>\n",
       "      <th>0</th>\n",
       "      <td>\\n This Annex lists various European Union law...</td>\n",
       "      <td>Annex I: List of Union Harmonisation Legislation</td>\n",
       "      <td>\\nSection A – List of Union harmonisation legi...</td>\n",
       "      <td>['47', '49', '50', '51']</td>\n",
       "      <td>240.50</td>\n",
       "      <td>['Article 2']</td>\n",
       "      <td>[]</td>\n",
       "      <td>['Recital\\xa050', 'Recital\\xa051', 'Recital\\xa...</td>\n",
       "      <td>annex</td>\n",
       "    </tr>\n",
       "    <tr>\n",
       "      <th>1</th>\n",
       "      <td>\\n This Annex provides a list of criminal offe...</td>\n",
       "      <td>Annex II: List of Criminal Offences Referred t...</td>\n",
       "      <td>\\nCriminal offences referred to in Article 5(1...</td>\n",
       "      <td>['33']</td>\n",
       "      <td>28.75</td>\n",
       "      <td>['Article 5']</td>\n",
       "      <td>[]</td>\n",
       "      <td>[]</td>\n",
       "      <td>annex</td>\n",
       "    </tr>\n",
       "    <tr>\n",
       "      <th>2</th>\n",
       "      <td>\\n This Annex lists use cases that would quali...</td>\n",
       "      <td>Annex III: High-Risk AI Systems Referred to in...</td>\n",
       "      <td>\\nHigh-risk AI systems pursuant to Article 6(2...</td>\n",
       "      <td>['48', '52', '54', '55', '56', '57', '58', '59...</td>\n",
       "      <td>299.25</td>\n",
       "      <td>['Article 6', 'Article 3', 'Article 3']</td>\n",
       "      <td>[]</td>\n",
       "      <td>['Recital\\xa054', 'Recital\\xa0159', 'Recital\\x...</td>\n",
       "      <td>annex</td>\n",
       "    </tr>\n",
       "    <tr>\n",
       "      <th>3</th>\n",
       "      <td>\\n AI system providers are required to provide...</td>\n",
       "      <td>Annex IV: Technical Documentation Referred to ...</td>\n",
       "      <td>\\nThe technical documentation referred to in A...</td>\n",
       "      <td>NaN</td>\n",
       "      <td>224.25</td>\n",
       "      <td>['Article 11', 'Article 14', 'Article 13', 'Ar...</td>\n",
       "      <td>[]</td>\n",
       "      <td>[]</td>\n",
       "      <td>annex</td>\n",
       "    </tr>\n",
       "    <tr>\n",
       "      <th>4</th>\n",
       "      <td>\\n Providers of high-risk AI systems must crea...</td>\n",
       "      <td>Annex V: EU Declaration of Conformity</td>\n",
       "      <td>\\nThe EU declaration of conformity referred to...</td>\n",
       "      <td>NaN</td>\n",
       "      <td>56.00</td>\n",
       "      <td>['Article 47', 'Article 47', 'Article 47']</td>\n",
       "      <td>[]</td>\n",
       "      <td>[]</td>\n",
       "      <td>annex</td>\n",
       "    </tr>\n",
       "  </tbody>\n",
       "</table>\n",
       "</div>"
      ],
      "text/plain": [
       "                                             summary  \\\n",
       "0  \\n This Annex lists various European Union law...   \n",
       "1  \\n This Annex provides a list of criminal offe...   \n",
       "2  \\n This Annex lists use cases that would quali...   \n",
       "3  \\n AI system providers are required to provide...   \n",
       "4  \\n Providers of high-risk AI systems must crea...   \n",
       "\n",
       "                                               title  \\\n",
       "0   Annex I: List of Union Harmonisation Legislation   \n",
       "1  Annex II: List of Criminal Offences Referred t...   \n",
       "2  Annex III: High-Risk AI Systems Referred to in...   \n",
       "3  Annex IV: Technical Documentation Referred to ...   \n",
       "4              Annex V: EU Declaration of Conformity   \n",
       "\n",
       "                                           full_text  \\\n",
       "0  \\nSection A – List of Union harmonisation legi...   \n",
       "1  \\nCriminal offences referred to in Article 5(1...   \n",
       "2  \\nHigh-risk AI systems pursuant to Article 6(2...   \n",
       "3  \\nThe technical documentation referred to in A...   \n",
       "4  \\nThe EU declaration of conformity referred to...   \n",
       "\n",
       "                                    related_recitals  token_count  \\\n",
       "0                           ['47', '49', '50', '51']       240.50   \n",
       "1                                             ['33']        28.75   \n",
       "2  ['48', '52', '54', '55', '56', '57', '58', '59...       299.25   \n",
       "3                                                NaN       224.25   \n",
       "4                                                NaN        56.00   \n",
       "\n",
       "                                  mentioned_articles mentioned_annexes  \\\n",
       "0                                      ['Article 2']                []   \n",
       "1                                      ['Article 5']                []   \n",
       "2            ['Article 6', 'Article 3', 'Article 3']                []   \n",
       "3  ['Article 11', 'Article 14', 'Article 13', 'Ar...                []   \n",
       "4         ['Article 47', 'Article 47', 'Article 47']                []   \n",
       "\n",
       "                                  mentioned_recitals   type  \n",
       "0  ['Recital\\xa050', 'Recital\\xa051', 'Recital\\xa...  annex  \n",
       "1                                                 []  annex  \n",
       "2  ['Recital\\xa054', 'Recital\\xa0159', 'Recital\\x...  annex  \n",
       "3                                                 []  annex  \n",
       "4                                                 []  annex  "
      ]
     },
     "execution_count": 2,
     "metadata": {},
     "output_type": "execute_result"
    }
   ],
   "source": [
    "annexes.head()"
   ]
  },
  {
   "cell_type": "code",
   "execution_count": 3,
   "metadata": {},
   "outputs": [
    {
     "data": {
      "text/html": [
       "<div>\n",
       "<style scoped>\n",
       "    .dataframe tbody tr th:only-of-type {\n",
       "        vertical-align: middle;\n",
       "    }\n",
       "\n",
       "    .dataframe tbody tr th {\n",
       "        vertical-align: top;\n",
       "    }\n",
       "\n",
       "    .dataframe thead th {\n",
       "        text-align: right;\n",
       "    }\n",
       "</style>\n",
       "<table border=\"1\" class=\"dataframe\">\n",
       "  <thead>\n",
       "    <tr style=\"text-align: right;\">\n",
       "      <th></th>\n",
       "      <th>summary</th>\n",
       "      <th>part_of</th>\n",
       "      <th>title</th>\n",
       "      <th>sub_title_info</th>\n",
       "      <th>full_text</th>\n",
       "      <th>related_recitals</th>\n",
       "      <th>token_count</th>\n",
       "      <th>mentioned_articles</th>\n",
       "      <th>mentioned_annexes</th>\n",
       "      <th>mentioned_recitals</th>\n",
       "      <th>type</th>\n",
       "    </tr>\n",
       "  </thead>\n",
       "  <tbody>\n",
       "    <tr>\n",
       "      <th>0</th>\n",
       "      <td>\\n This law aims to improve the European marke...</td>\n",
       "      <td>Chapter I: General Provisions</td>\n",
       "      <td>Article 1: Subject Matter</td>\n",
       "      <td>\\n\\nDate of entry into force:\\n 2 February 202...</td>\n",
       "      <td>\\n1. The purpose of this Regulation is to impr...</td>\n",
       "      <td>['1', '2', '3', '6', '7', '8']</td>\n",
       "      <td>38.75</td>\n",
       "      <td>[]</td>\n",
       "      <td>[]</td>\n",
       "      <td>[]</td>\n",
       "      <td>article</td>\n",
       "    </tr>\n",
       "    <tr>\n",
       "      <th>1</th>\n",
       "      <td>\\n This EU regulation applies to anyone who ma...</td>\n",
       "      <td>Chapter I: General Provisions</td>\n",
       "      <td>Article 2: Scope</td>\n",
       "      <td>\\n\\nDate of entry into force:\\n 2 February 202...</td>\n",
       "      <td>\\n1. This Regulation applies to:\\n(a) provider...</td>\n",
       "      <td>['9', '10', '11', '21', '22', '23', '24', '25'...</td>\n",
       "      <td>196.75</td>\n",
       "      <td>['Article 6', 'Article 6', 'Article 112', 'Art...</td>\n",
       "      <td>['Annex I']</td>\n",
       "      <td>['Recital\\xa021', 'Recital\\xa022', 'Recital\\xa...</td>\n",
       "      <td>article</td>\n",
       "    </tr>\n",
       "    <tr>\n",
       "      <th>2</th>\n",
       "      <td>\\n This article provides definitions for vario...</td>\n",
       "      <td>Chapter I: General Provisions</td>\n",
       "      <td>Article 3: Definitions</td>\n",
       "      <td>\\n\\nDate of entry into force:\\n 2 February 202...</td>\n",
       "      <td>\\nFor the purposes of this Regulation, the fol...</td>\n",
       "      <td>['12', '13', '14', '15', '16', '17', '18', '19...</td>\n",
       "      <td>668.50</td>\n",
       "      <td>['Article 2', 'Article 2', 'Article 9', 'Artic...</td>\n",
       "      <td>[]</td>\n",
       "      <td>['Recital\\xa012', 'Recital\\xa013', 'Recital\\xa...</td>\n",
       "      <td>article</td>\n",
       "    </tr>\n",
       "    <tr>\n",
       "      <th>3</th>\n",
       "      <td>\\n This article states that companies that cre...</td>\n",
       "      <td>Chapter I: General Provisions</td>\n",
       "      <td>Article 4: AI literacy</td>\n",
       "      <td>\\n\\nDate of entry into force:\\n 2 February 202...</td>\n",
       "      <td>\\nProviders and deployers of AI systems shall ...</td>\n",
       "      <td>['20']</td>\n",
       "      <td>19.25</td>\n",
       "      <td>[]</td>\n",
       "      <td>[]</td>\n",
       "      <td>[]</td>\n",
       "      <td>article</td>\n",
       "    </tr>\n",
       "    <tr>\n",
       "      <th>4</th>\n",
       "      <td>\\n The EU AI Act prohibits certain uses of art...</td>\n",
       "      <td>Chapter II: Prohibited AI Practices</td>\n",
       "      <td>Article 5: Prohibited AI Practices</td>\n",
       "      <td>\\n\\nDate of entry into force:\\n 2 February 202...</td>\n",
       "      <td>\\n1. The following AI practices shall be prohi...</td>\n",
       "      <td>['3', '28', '29', '30', '31', '32', '33', '34'...</td>\n",
       "      <td>458.00</td>\n",
       "      <td>['Article 9', 'Article 27', 'Article 49']</td>\n",
       "      <td>['Annex II']</td>\n",
       "      <td>['Recital\\xa029', 'Recital\\xa029', 'Recital\\xa...</td>\n",
       "      <td>article</td>\n",
       "    </tr>\n",
       "  </tbody>\n",
       "</table>\n",
       "</div>"
      ],
      "text/plain": [
       "                                             summary  \\\n",
       "0  \\n This law aims to improve the European marke...   \n",
       "1  \\n This EU regulation applies to anyone who ma...   \n",
       "2  \\n This article provides definitions for vario...   \n",
       "3  \\n This article states that companies that cre...   \n",
       "4  \\n The EU AI Act prohibits certain uses of art...   \n",
       "\n",
       "                               part_of                               title  \\\n",
       "0        Chapter I: General Provisions           Article 1: Subject Matter   \n",
       "1        Chapter I: General Provisions                    Article 2: Scope   \n",
       "2        Chapter I: General Provisions              Article 3: Definitions   \n",
       "3        Chapter I: General Provisions              Article 4: AI literacy   \n",
       "4  Chapter II: Prohibited AI Practices  Article 5: Prohibited AI Practices   \n",
       "\n",
       "                                      sub_title_info  \\\n",
       "0  \\n\\nDate of entry into force:\\n 2 February 202...   \n",
       "1  \\n\\nDate of entry into force:\\n 2 February 202...   \n",
       "2  \\n\\nDate of entry into force:\\n 2 February 202...   \n",
       "3  \\n\\nDate of entry into force:\\n 2 February 202...   \n",
       "4  \\n\\nDate of entry into force:\\n 2 February 202...   \n",
       "\n",
       "                                           full_text  \\\n",
       "0  \\n1. The purpose of this Regulation is to impr...   \n",
       "1  \\n1. This Regulation applies to:\\n(a) provider...   \n",
       "2  \\nFor the purposes of this Regulation, the fol...   \n",
       "3  \\nProviders and deployers of AI systems shall ...   \n",
       "4  \\n1. The following AI practices shall be prohi...   \n",
       "\n",
       "                                    related_recitals  token_count  \\\n",
       "0                     ['1', '2', '3', '6', '7', '8']        38.75   \n",
       "1  ['9', '10', '11', '21', '22', '23', '24', '25'...       196.75   \n",
       "2  ['12', '13', '14', '15', '16', '17', '18', '19...       668.50   \n",
       "3                                             ['20']        19.25   \n",
       "4  ['3', '28', '29', '30', '31', '32', '33', '34'...       458.00   \n",
       "\n",
       "                                  mentioned_articles mentioned_annexes  \\\n",
       "0                                                 []                []   \n",
       "1  ['Article 6', 'Article 6', 'Article 112', 'Art...       ['Annex I']   \n",
       "2  ['Article 2', 'Article 2', 'Article 9', 'Artic...                []   \n",
       "3                                                 []                []   \n",
       "4          ['Article 9', 'Article 27', 'Article 49']      ['Annex II']   \n",
       "\n",
       "                                  mentioned_recitals     type  \n",
       "0                                                 []  article  \n",
       "1  ['Recital\\xa021', 'Recital\\xa022', 'Recital\\xa...  article  \n",
       "2  ['Recital\\xa012', 'Recital\\xa013', 'Recital\\xa...  article  \n",
       "3                                                 []  article  \n",
       "4  ['Recital\\xa029', 'Recital\\xa029', 'Recital\\xa...  article  "
      ]
     },
     "execution_count": 3,
     "metadata": {},
     "output_type": "execute_result"
    }
   ],
   "source": [
    "articles.head()"
   ]
  },
  {
   "cell_type": "code",
   "execution_count": 4,
   "metadata": {},
   "outputs": [
    {
     "data": {
      "text/html": [
       "<div>\n",
       "<style scoped>\n",
       "    .dataframe tbody tr th:only-of-type {\n",
       "        vertical-align: middle;\n",
       "    }\n",
       "\n",
       "    .dataframe tbody tr th {\n",
       "        vertical-align: top;\n",
       "    }\n",
       "\n",
       "    .dataframe thead th {\n",
       "        text-align: right;\n",
       "    }\n",
       "</style>\n",
       "<table border=\"1\" class=\"dataframe\">\n",
       "  <thead>\n",
       "    <tr style=\"text-align: right;\">\n",
       "      <th></th>\n",
       "      <th>title</th>\n",
       "      <th>full_text</th>\n",
       "      <th>related_content</th>\n",
       "      <th>token_count</th>\n",
       "      <th>mentioned_articles</th>\n",
       "      <th>mentioned_annexes</th>\n",
       "      <th>mentioned_recitals</th>\n",
       "      <th>type</th>\n",
       "    </tr>\n",
       "  </thead>\n",
       "  <tbody>\n",
       "    <tr>\n",
       "      <th>0</th>\n",
       "      <td>Recital 1</td>\n",
       "      <td>\\nThe purpose of this Regulation is to improve...</td>\n",
       "      <td>['Article 1: Subject Matter']</td>\n",
       "      <td>37.25</td>\n",
       "      <td>[]</td>\n",
       "      <td>[]</td>\n",
       "      <td>[]</td>\n",
       "      <td>recital</td>\n",
       "    </tr>\n",
       "    <tr>\n",
       "      <th>1</th>\n",
       "      <td>Recital 2</td>\n",
       "      <td>\\nThis Regulation should be applied in accorda...</td>\n",
       "      <td>['Article 1: Subject Matter']</td>\n",
       "      <td>12.50</td>\n",
       "      <td>[]</td>\n",
       "      <td>[]</td>\n",
       "      <td>[]</td>\n",
       "      <td>recital</td>\n",
       "    </tr>\n",
       "    <tr>\n",
       "      <th>2</th>\n",
       "      <td>Recital 3</td>\n",
       "      <td>\\nAI systems can be easily deployed in a large...</td>\n",
       "      <td>['Article 1: Subject Matter', 'Article 5: Proh...</td>\n",
       "      <td>73.25</td>\n",
       "      <td>['Article 114', 'Article 16', 'Article 16']</td>\n",
       "      <td>[]</td>\n",
       "      <td>[]</td>\n",
       "      <td>recital</td>\n",
       "    </tr>\n",
       "    <tr>\n",
       "      <th>3</th>\n",
       "      <td>Recital 4</td>\n",
       "      <td>\\nAI is a fast evolving family of technologies...</td>\n",
       "      <td>NaN</td>\n",
       "      <td>26.75</td>\n",
       "      <td>[]</td>\n",
       "      <td>[]</td>\n",
       "      <td>[]</td>\n",
       "      <td>recital</td>\n",
       "    </tr>\n",
       "    <tr>\n",
       "      <th>4</th>\n",
       "      <td>Recital 5</td>\n",
       "      <td>\\nAt the same time, depending on the circumsta...</td>\n",
       "      <td>NaN</td>\n",
       "      <td>12.75</td>\n",
       "      <td>[]</td>\n",
       "      <td>[]</td>\n",
       "      <td>[]</td>\n",
       "      <td>recital</td>\n",
       "    </tr>\n",
       "  </tbody>\n",
       "</table>\n",
       "</div>"
      ],
      "text/plain": [
       "       title                                          full_text  \\\n",
       "0  Recital 1  \\nThe purpose of this Regulation is to improve...   \n",
       "1  Recital 2  \\nThis Regulation should be applied in accorda...   \n",
       "2  Recital 3  \\nAI systems can be easily deployed in a large...   \n",
       "3  Recital 4  \\nAI is a fast evolving family of technologies...   \n",
       "4  Recital 5  \\nAt the same time, depending on the circumsta...   \n",
       "\n",
       "                                     related_content  token_count  \\\n",
       "0                      ['Article 1: Subject Matter']        37.25   \n",
       "1                      ['Article 1: Subject Matter']        12.50   \n",
       "2  ['Article 1: Subject Matter', 'Article 5: Proh...        73.25   \n",
       "3                                                NaN        26.75   \n",
       "4                                                NaN        12.75   \n",
       "\n",
       "                            mentioned_articles mentioned_annexes  \\\n",
       "0                                           []                []   \n",
       "1                                           []                []   \n",
       "2  ['Article 114', 'Article 16', 'Article 16']                []   \n",
       "3                                           []                []   \n",
       "4                                           []                []   \n",
       "\n",
       "  mentioned_recitals     type  \n",
       "0                 []  recital  \n",
       "1                 []  recital  \n",
       "2                 []  recital  \n",
       "3                 []  recital  \n",
       "4                 []  recital  "
      ]
     },
     "execution_count": 4,
     "metadata": {},
     "output_type": "execute_result"
    }
   ],
   "source": [
    "recitals.head()"
   ]
  },
  {
   "cell_type": "code",
   "execution_count": 5,
   "metadata": {},
   "outputs": [],
   "source": [
    "articles['mentioned_recitals'] = articles['mentioned_recitals'].apply(lambda x: x.replace('\\\\xa0', ' '))\n",
    "annexes['mentioned_recitals'] = annexes['mentioned_recitals'].apply(lambda x: x.replace('\\\\xa0', ' '))\n",
    "recitals['mentioned_recitals'] = recitals['mentioned_recitals'].apply(lambda x: x.replace('\\\\xa0', ' '))\n",
    "\n",
    "articles['mentioned_recitals'] = articles['mentioned_recitals'].apply(eval)\n",
    "annexes['mentioned_recitals'] = annexes['mentioned_recitals'].apply(eval)\n",
    "recitals['mentioned_recitals'] = recitals['mentioned_recitals'].apply(eval)"
   ]
  },
  {
   "cell_type": "code",
   "execution_count": 29,
   "metadata": {},
   "outputs": [],
   "source": [
    "from neo4j import GraphDatabase\n",
    "\n",
    "def create_driver(uri, user, password, timeout=300):\n",
    "    return GraphDatabase.driver(uri, auth=(user, password), connection_timeout=timeout)\n",
    "\n",
    "uri = 'neo4j://localhost:7687'\n",
    "driver = create_driver(uri, 'neo4j', 'ivanivan')\n",
    "\n",
    "def run_cypher_query(query, parameters=None):\n",
    "    with driver.session() as session:\n",
    "        session.run(query, parameters)"
   ]
  },
  {
   "cell_type": "markdown",
   "metadata": {},
   "source": [
    "### Create Nodes"
   ]
  },
  {
   "cell_type": "code",
   "execution_count": 30,
   "metadata": {},
   "outputs": [],
   "source": [
    "for _, row in articles.iterrows():\n",
    "    query = \"\"\"\n",
    "    CREATE (:Article {\n",
    "        title: $title,\n",
    "        sub_title_info: $sub_title_info,\n",
    "        full_text: $full_text,\n",
    "        summary: $summary,\n",
    "        part_of: $part_of,\n",
    "        related_recitals: $related_recitals,\n",
    "        mentioned_recitals: $mentioned_recitals,\n",
    "        mentioned_annexes: $mentioned_annexes,\n",
    "        mentioned_articles: $mentioned_articles\n",
    "    })\n",
    "    \"\"\"\n",
    "    parameters = {\n",
    "        \"title\": row[\"title\"],\n",
    "        \"sub_title_info\": row[\"sub_title_info\"],\n",
    "        \"full_text\": row[\"full_text\"],\n",
    "        \"summary\": row[\"summary\"],\n",
    "        \"part_of\": row[\"part_of\"],\n",
    "        \"related_recitals\": row[\"related_recitals\"],\n",
    "        \"mentioned_recitals\": row[\"mentioned_recitals\"],\n",
    "        \"mentioned_annexes\": row[\"mentioned_annexes\"],\n",
    "        \"mentioned_articles\": row[\"mentioned_articles\"]\n",
    "    }\n",
    "    run_cypher_query(query, parameters)"
   ]
  },
  {
   "cell_type": "code",
   "execution_count": 31,
   "metadata": {},
   "outputs": [],
   "source": [
    "for _, row in annexes.iterrows():\n",
    "    query = \"\"\"\n",
    "    CREATE (:Annex {\n",
    "        title: $title,\n",
    "        summary: $summary,\n",
    "        full_text: $full_text,\n",
    "        related_recitals: $related_recitals,\n",
    "        mentioned_recitals: $mentioned_recitals,\n",
    "        mentioned_articles: $mentioned_articles,\n",
    "        mentioned_annexes: $mentioned_annexes\n",
    "    })\n",
    "    \"\"\"\n",
    "    parameters = {\n",
    "        \"title\": row[\"title\"],\n",
    "        \"summary\": row[\"summary\"],\n",
    "        \"full_text\": row[\"full_text\"],\n",
    "        \"related_recitals\": row[\"related_recitals\"],\n",
    "        \"mentioned_recitals\": row[\"mentioned_recitals\"],\n",
    "        \"mentioned_articles\": row[\"mentioned_articles\"],\n",
    "        \"mentioned_annexes\": row[\"mentioned_annexes\"]\n",
    "    }\n",
    "    run_cypher_query(query, parameters)\n"
   ]
  },
  {
   "cell_type": "code",
   "execution_count": 32,
   "metadata": {},
   "outputs": [],
   "source": [
    "for _, row in recitals.iterrows():\n",
    "    query = \"\"\"\n",
    "    CREATE (:Recital {\n",
    "        title: $title,\n",
    "        full_text: $full_text,\n",
    "        related_content: $related_content,\n",
    "        mentioned_recitals: $mentioned_recitals,\n",
    "        mentioned_articles: $mentioned_articles,\n",
    "        mentioned_annexes: $mentioned_annexes\n",
    "    })\n",
    "    \"\"\"\n",
    "    parameters = {\n",
    "        \"title\": row[\"title\"],\n",
    "        \"full_text\": row[\"full_text\"],\n",
    "        \"related_content\": row[\"related_content\"],\n",
    "        \"mentioned_recitals\": row[\"mentioned_recitals\"],\n",
    "        \"mentioned_articles\": row[\"mentioned_articles\"],\n",
    "        \"mentioned_annexes\": row[\"mentioned_annexes\"]\n",
    "    }\n",
    "    run_cypher_query(query, parameters)"
   ]
  },
  {
   "cell_type": "markdown",
   "metadata": {},
   "source": [
    "### HAS_SUMMARY edge"
   ]
  },
  {
   "cell_type": "code",
   "execution_count": 33,
   "metadata": {},
   "outputs": [],
   "source": [
    "query = \"\"\"\n",
    "MATCH (a:Article)\n",
    "CREATE (a)-[:HAS_SUMMARY]->(s:ArticleSummary)\n",
    "SET s.summary = a.summary,\n",
    "    s.title = a.title\n",
    "\"\"\"\n",
    "run_cypher_query(query)"
   ]
  },
  {
   "cell_type": "code",
   "execution_count": 34,
   "metadata": {},
   "outputs": [],
   "source": [
    "query = \"\"\"\n",
    "MATCH (a:Annex)\n",
    "CREATE (a)-[:HAS_SUMMARY]->(s:AnnexSummary)\n",
    "SET s.summary = a.summary,\n",
    "    s.title = a.title\n",
    "\"\"\"\n",
    "run_cypher_query(query)"
   ]
  },
  {
   "cell_type": "markdown",
   "metadata": {},
   "source": [
    "### PART_OF edge"
   ]
  },
  {
   "cell_type": "code",
   "execution_count": 35,
   "metadata": {},
   "outputs": [],
   "source": [
    "# create a node Chapter and a relationship between Article and Chapter\n",
    "query = \"\"\"\n",
    "MATCH (a:Article)\n",
    "CREATE (a)-[:PART_OF]->(c:Chapter)\n",
    "SET c.title = a.part_of\n",
    "\"\"\"\n",
    "run_cypher_query(query)"
   ]
  },
  {
   "cell_type": "markdown",
   "metadata": {},
   "source": [
    "### RELATES_TO edge"
   ]
  },
  {
   "cell_type": "code",
   "execution_count": 36,
   "metadata": {},
   "outputs": [],
   "source": [
    "query = \"\"\"\n",
    "MATCH (a:Annex)\n",
    "WHERE a.related_recitals IS NOT NULL AND toString(a.related_recitals) <> \"NaN\"\n",
    "WITH a, apoc.convert.fromJsonList(a.related_recitals) AS recital_list\n",
    "UNWIND recital_list AS recital_number\n",
    "WITH a, recital_number\n",
    "WHERE recital_number IS NOT NULL AND toString(recital_number) <> \"NaN\"\n",
    "MATCH (r:Recital {title: \"Recital \" + toString(recital_number)})\n",
    "CREATE (a)-[:RELATES_TO]->(r)\n",
    "\"\"\"\n",
    "run_cypher_query(query)"
   ]
  },
  {
   "cell_type": "code",
   "execution_count": 37,
   "metadata": {},
   "outputs": [],
   "source": [
    "# now the same for articles\n",
    "query = \"\"\"\n",
    "MATCH (a:Article)\n",
    "WHERE a.related_recitals IS NOT NULL AND toString(a.related_recitals) <> \"NaN\"\n",
    "WITH a, apoc.convert.fromJsonList(a.related_recitals) AS recital_list\n",
    "UNWIND recital_list AS recital_number\n",
    "WITH a, recital_number\n",
    "WHERE recital_number IS NOT NULL AND toString(recital_number) <> \"NaN\"\n",
    "MATCH (r:Recital {title: \"Recital \" + toString(recital_number)})\n",
    "CREATE (a)-[:RELATES_TO]->(r)\n",
    "\"\"\"\n",
    "run_cypher_query(query)"
   ]
  },
  {
   "cell_type": "code",
   "execution_count": 38,
   "metadata": {},
   "outputs": [],
   "source": [
    "# now the same for recitals but the col is called related_content and it might RELATES_TO Articles and Annexes\n",
    "query = \"\"\"\n",
    "MATCH (r:Recital)\n",
    "WHERE r.related_content IS NOT NULL AND toString(r.related_content) <> \"NaN\"\n",
    "WITH r, apoc.convert.fromJsonList(r.related_content) AS content_list\n",
    "UNWIND content_list AS content\n",
    "WITH r, content\n",
    "WHERE content IS NOT NULL AND toString(content) <> \"NaN\"\n",
    "MATCH (a:Article {title: content})\n",
    "CREATE (r)-[:RELATES_TO]->(a)\n",
    "\"\"\"\n",
    "run_cypher_query(query)\n"
   ]
  },
  {
   "cell_type": "markdown",
   "metadata": {},
   "source": [
    "### MENTIONS edge"
   ]
  },
  {
   "cell_type": "markdown",
   "metadata": {},
   "source": [
    "Article nodes"
   ]
  },
  {
   "cell_type": "code",
   "execution_count": 39,
   "metadata": {},
   "outputs": [],
   "source": [
    "query = \"\"\"\n",
    "MATCH (a:Article)\n",
    "WHERE a.mentioned_recitals IS NOT NULL AND size(a.mentioned_recitals) > 0\n",
    "UNWIND a.mentioned_recitals AS recital_title\n",
    "WITH a, recital_title\n",
    "WHERE recital_title IS NOT NULL AND trim(recital_title) <> \"\"\n",
    "MATCH (r:Recital {title: recital_title})\n",
    "MERGE (a)-[:MENTIONS]->(r)\n",
    "\"\"\"\n",
    "run_cypher_query(query)"
   ]
  },
  {
   "cell_type": "code",
   "execution_count": 40,
   "metadata": {},
   "outputs": [],
   "source": [
    "query = \"\"\"\n",
    "MATCH (a:Article)\n",
    "WHERE a.mentioned_articles IS NOT NULL AND size(a.mentioned_articles) > 0\n",
    "WITH a, apoc.convert.fromJsonList(a.mentioned_articles) AS article_list  // Convert the string representation into a list\n",
    "UNWIND article_list AS article_title\n",
    "WITH a, article_title\n",
    "WHERE article_title IS NOT NULL AND trim(article_title) <> \"\"\n",
    "WITH a, split(trim(article_title), \":\")[0] AS article_number  // Extract the article number (e.g., \"Article 6\")\n",
    "MATCH (b:Article)\n",
    "WHERE split(b.title, \":\")[0] = article_number  // Match the article node by the article number (e.g., \"Article 6\")\n",
    "MERGE (a)-[:MENTIONS]->(b)  // Create a relationship from the mentioned article to the current article\n",
    "\"\"\"\n",
    "run_cypher_query(query)"
   ]
  },
  {
   "cell_type": "code",
   "execution_count": 41,
   "metadata": {},
   "outputs": [],
   "source": [
    "query = \"\"\"\n",
    "MATCH (a:Article)\n",
    "WHERE a.mentioned_annexes IS NOT NULL AND size(a.mentioned_annexes) > 0\n",
    "WITH a, apoc.convert.fromJsonList(a.mentioned_annexes) AS annex_list  // Convert the string representation into a list\n",
    "UNWIND annex_list AS annex_title\n",
    "WITH a, annex_title\n",
    "WHERE annex_title IS NOT NULL AND trim(annex_title) <> \"\"\n",
    "WITH a, split(trim(annex_title), \":\")[0] AS annex_number  \n",
    "MATCH (b:Annex)\n",
    "WHERE split(b.title, \":\")[0] = annex_number  \n",
    "MERGE (a)-[:MENTIONS]->(b)  \n",
    "\"\"\"\n",
    "run_cypher_query(query)"
   ]
  },
  {
   "cell_type": "markdown",
   "metadata": {},
   "source": [
    "Recital nodes"
   ]
  },
  {
   "cell_type": "code",
   "execution_count": 42,
   "metadata": {},
   "outputs": [
    {
     "data": {
      "text/plain": [
       "mentioned_articles\n",
       "[]                                                                                                             150\n",
       "['Article 4', 'Article 3', 'Article 3']                                                                          2\n",
       "['Article 2']                                                                                                    2\n",
       "['Article 9']                                                                                                    2\n",
       "['Article 4']                                                                                                    2\n",
       "['Article 13']                                                                                                   1\n",
       "['Article 5']                                                                                                    1\n",
       "['Article 290']                                                                                                  1\n",
       "['Article 261']                                                                                                  1\n",
       "['Article 18']                                                                                                   1\n",
       "['Article 30', 'Article 33']                                                                                     1\n",
       "['Article 6', 'Article 9', 'Article 4', 'Article 10', 'Article 22', 'Article 24']                                1\n",
       "['Article 16', 'Article 16']                                                                                     1\n",
       "['Article 54']                                                                                                   1\n",
       "['Article 10', 'Article 4']                                                                                      1\n",
       "['Article 9', 'Article 10']                                                                                      1\n",
       "['Article 16']                                                                                                   1\n",
       "['Article 114', 'Article 16', 'Article 16']                                                                      1\n",
       "['Article 39']                                                                                                   1\n",
       "['Article 24']                                                                                                   1\n",
       "['Article 5', 'Article 5', 'Article 5', 'Article 26', 'Article 16']                                              1\n",
       "['Article 6', 'Article 5', 'Article 5', 'Article 5', 'Article 5', 'Article 26', 'Article 16', 'Article 16']      1\n",
       "['Article 10', 'Article 9', 'Article 10', 'Article 9']                                                           1\n",
       "['Article 16', 'Article 10', 'Article 10', 'Article 8']                                                          1\n",
       "['Article 4', 'Article 4']                                                                                       1\n",
       "['Article 2', 'Article 6']                                                                                       1\n",
       "['Article 42']                                                                                                   1\n",
       "Name: count, dtype: int64"
      ]
     },
     "execution_count": 42,
     "metadata": {},
     "output_type": "execute_result"
    }
   ],
   "source": [
    "recitals['mentioned_articles'].value_counts()"
   ]
  },
  {
   "cell_type": "code",
   "execution_count": 43,
   "metadata": {},
   "outputs": [],
   "source": [
    "query = \"\"\"\n",
    "MATCH (a:Recital)\n",
    "WHERE a.mentioned_articles IS NOT NULL AND size(a.mentioned_articles) > 0\n",
    "WITH a, apoc.convert.fromJsonList(a.mentioned_articles) AS article_list  // Convert the string representation into a list\n",
    "UNWIND article_list AS article_title\n",
    "WITH a, article_title\n",
    "WHERE article_title IS NOT NULL AND trim(article_title) <> \"\"\n",
    "WITH a, split(trim(article_title), \":\")[0] AS article_number  // Extract the article number (e.g., \"Article 6\")\n",
    "MATCH (b:Article)\n",
    "WHERE split(b.title, \":\")[0] = article_number  // Match the article node by the article number (e.g., \"Article 6\")\n",
    "MERGE (a)-[:MENTIONS]->(b)  // Create a relationship from the mentioned article to the current article\n",
    "\"\"\"\n",
    "run_cypher_query(query)"
   ]
  },
  {
   "cell_type": "code",
   "execution_count": 44,
   "metadata": {},
   "outputs": [
    {
     "data": {
      "text/plain": [
       "mentioned_annexes\n",
       "[]             179\n",
       "['Annex I']      1\n",
       "Name: count, dtype: int64"
      ]
     },
     "execution_count": 44,
     "metadata": {},
     "output_type": "execute_result"
    }
   ],
   "source": [
    "recitals['mentioned_annexes'].value_counts()"
   ]
  },
  {
   "cell_type": "code",
   "execution_count": 45,
   "metadata": {},
   "outputs": [],
   "source": [
    "query = \"\"\"\n",
    "MATCH (a:Recital)\n",
    "WHERE a.mentioned_annexes IS NOT NULL AND size(a.mentioned_annexes) > 0\n",
    "WITH a, apoc.convert.fromJsonList(a.mentioned_annexes) AS annex_list  // Convert the string representation into a list\n",
    "UNWIND annex_list AS annex_title\n",
    "WITH a, annex_title\n",
    "WHERE annex_title IS NOT NULL AND trim(annex_title) <> \"\"\n",
    "WITH a, split(trim(annex_title), \":\")[0] AS annex_number  \n",
    "MATCH (b:Annex)\n",
    "WHERE split(b.title, \":\")[0] = annex_number  \n",
    "MERGE (a)-[:MENTIONS]->(b)  \n",
    "\"\"\"\n",
    "run_cypher_query(query)"
   ]
  },
  {
   "cell_type": "code",
   "execution_count": 46,
   "metadata": {},
   "outputs": [
    {
     "data": {
      "text/plain": [
       "mentioned_recitals\n",
       "[]    180\n",
       "Name: count, dtype: int64"
      ]
     },
     "execution_count": 46,
     "metadata": {},
     "output_type": "execute_result"
    }
   ],
   "source": [
    "recitals['mentioned_recitals'].value_counts()\n",
    "# no rels to add"
   ]
  },
  {
   "cell_type": "markdown",
   "metadata": {},
   "source": [
    "Annex nodes"
   ]
  },
  {
   "cell_type": "code",
   "execution_count": 47,
   "metadata": {},
   "outputs": [
    {
     "data": {
      "text/plain": [
       "mentioned_articles\n",
       "['Article 53']                                                                                                                                                                          2\n",
       "['Article 2']                                                                                                                                                                           1\n",
       "['Article 5']                                                                                                                                                                           1\n",
       "['Article 6', 'Article 3', 'Article 3']                                                                                                                                                 1\n",
       "['Article 11', 'Article 14', 'Article 13', 'Article 14', 'Article 9', 'Article 47', 'Article 72', 'Article 72']                                                                         1\n",
       "['Article 47', 'Article 47', 'Article 47']                                                                                                                                              1\n",
       "['Article 17', 'Article 72']                                                                                                                                                            1\n",
       "['Article 17', 'Article 17', 'Article 17', 'Article 43']                                                                                                                                1\n",
       "['Article 49', 'Article 49', 'Article 47', 'Article 49', 'Article 49', 'Article 6', 'Article 6', 'Article 49', 'Article 49', 'Article 27', 'Article 35', 'Article 27', 'Article 26']    1\n",
       "['Article 60']                                                                                                                                                                          1\n",
       "[]                                                                                                                                                                                      1\n",
       "['Article 51']                                                                                                                                                                          1\n",
       "Name: count, dtype: int64"
      ]
     },
     "execution_count": 47,
     "metadata": {},
     "output_type": "execute_result"
    }
   ],
   "source": [
    "annexes['mentioned_articles'].value_counts()"
   ]
  },
  {
   "cell_type": "code",
   "execution_count": 48,
   "metadata": {},
   "outputs": [],
   "source": [
    "query = \"\"\"\n",
    "MATCH (a:Annex)\n",
    "WHERE a.mentioned_articles IS NOT NULL AND size(a.mentioned_articles) > 0\n",
    "WITH a, apoc.convert.fromJsonList(a.mentioned_articles) AS article_list\n",
    "UNWIND article_list AS article_title\n",
    "WITH a, article_title\n",
    "WHERE article_title IS NOT NULL AND trim(article_title) <> \"\"\n",
    "WITH a, split(trim(article_title), \":\")[0] AS article_number\n",
    "MATCH (b:Article)\n",
    "WHERE split(b.title, \":\")[0] = article_number\n",
    "MERGE (a)-[:MENTIONS]->(b)\n",
    "\"\"\"\n",
    "run_cypher_query(query)"
   ]
  },
  {
   "cell_type": "code",
   "execution_count": 49,
   "metadata": {},
   "outputs": [
    {
     "data": {
      "text/plain": [
       "mentioned_annexes\n",
       "[]               11\n",
       "['Annex IV']      1\n",
       "['Annex III']     1\n",
       "Name: count, dtype: int64"
      ]
     },
     "execution_count": 49,
     "metadata": {},
     "output_type": "execute_result"
    }
   ],
   "source": [
    "annexes['mentioned_annexes'].value_counts()"
   ]
  },
  {
   "cell_type": "code",
   "execution_count": 50,
   "metadata": {},
   "outputs": [],
   "source": [
    "query = \"\"\"\n",
    "MATCH (a:Annex)\n",
    "WHERE a.mentioned_annexes IS NOT NULL AND size(a.mentioned_annexes) > 0\n",
    "WITH a, apoc.convert.fromJsonList(a.mentioned_annexes) AS annex_list\n",
    "UNWIND annex_list AS annex_title\n",
    "WITH a, annex_title\n",
    "WHERE annex_title IS NOT NULL AND trim(annex_title) <> \"\"\n",
    "WITH a, split(trim(annex_title), \":\")[0] AS annex_number  \n",
    "MATCH (b:Annex)\n",
    "WHERE split(b.title, \":\")[0] = annex_number  \n",
    "MERGE (a)-[:MENTIONS]->(b)  \n",
    "\"\"\"\n",
    "run_cypher_query(query)"
   ]
  },
  {
   "cell_type": "code",
   "execution_count": 51,
   "metadata": {},
   "outputs": [
    {
     "data": {
      "text/plain": [
       "mentioned_recitals\n",
       "[]                                                                                                                           11\n",
       "[Recital 50, Recital 51, Recital 49]                                                                                          1\n",
       "[Recital 54, Recital 159, Recital 55, Recital 56, Recital 57, Recital 58, Recital 59, Recital 60, Recital 61, Recital 62]     1\n",
       "Name: count, dtype: int64"
      ]
     },
     "execution_count": 51,
     "metadata": {},
     "output_type": "execute_result"
    }
   ],
   "source": [
    "annexes['mentioned_recitals'].value_counts()"
   ]
  },
  {
   "cell_type": "code",
   "execution_count": 52,
   "metadata": {},
   "outputs": [],
   "source": [
    "query = \"\"\"\n",
    "MATCH (a:Annex)\n",
    "WHERE a.mentioned_recitals IS NOT NULL AND size(a.mentioned_recitals) > 0\n",
    "UNWIND a.mentioned_recitals AS recital_title\n",
    "WITH a, recital_title\n",
    "WHERE recital_title IS NOT NULL AND trim(recital_title) <> \"\"\n",
    "MATCH (r:Recital {title: recital_title})\n",
    "MERGE (a)-[:MENTIONS]->(r)\n",
    "\"\"\"\n",
    "run_cypher_query(query)"
   ]
  },
  {
   "cell_type": "markdown",
   "metadata": {},
   "source": [
    "### Generate embeddings"
   ]
  },
  {
   "cell_type": "code",
   "execution_count": 53,
   "metadata": {},
   "outputs": [],
   "source": [
    "from sentence_transformers import SentenceTransformer\n",
    "\n",
    "emb_model = SentenceTransformer('mixedbread-ai/mxbai-embed-large-v1').to('mps')\n",
    "\n",
    "def apply_emb_model(row):\n",
    "    return emb_model.encode(row)\n",
    "\n",
    "articles['full_text_emb'] = articles['full_text'].apply(apply_emb_model)\n",
    "annexes['full_text_emb'] = annexes['full_text'].apply(apply_emb_model)\n",
    "recitals['full_text_emb'] = recitals['full_text'].apply(apply_emb_model)"
   ]
  },
  {
   "cell_type": "code",
   "execution_count": 54,
   "metadata": {},
   "outputs": [
    {
     "data": {
      "text/html": [
       "<div>\n",
       "<style scoped>\n",
       "    .dataframe tbody tr th:only-of-type {\n",
       "        vertical-align: middle;\n",
       "    }\n",
       "\n",
       "    .dataframe tbody tr th {\n",
       "        vertical-align: top;\n",
       "    }\n",
       "\n",
       "    .dataframe thead th {\n",
       "        text-align: right;\n",
       "    }\n",
       "</style>\n",
       "<table border=\"1\" class=\"dataframe\">\n",
       "  <thead>\n",
       "    <tr style=\"text-align: right;\">\n",
       "      <th></th>\n",
       "      <th>summary</th>\n",
       "      <th>part_of</th>\n",
       "      <th>title</th>\n",
       "      <th>sub_title_info</th>\n",
       "      <th>full_text</th>\n",
       "      <th>related_recitals</th>\n",
       "      <th>token_count</th>\n",
       "      <th>mentioned_articles</th>\n",
       "      <th>mentioned_annexes</th>\n",
       "      <th>mentioned_recitals</th>\n",
       "      <th>type</th>\n",
       "      <th>full_text_emb</th>\n",
       "    </tr>\n",
       "  </thead>\n",
       "  <tbody>\n",
       "    <tr>\n",
       "      <th>0</th>\n",
       "      <td>\\n This law aims to improve the European marke...</td>\n",
       "      <td>Chapter I: General Provisions</td>\n",
       "      <td>Article 1: Subject Matter</td>\n",
       "      <td>\\n\\nDate of entry into force:\\n 2 February 202...</td>\n",
       "      <td>\\n1. The purpose of this Regulation is to impr...</td>\n",
       "      <td>['1', '2', '3', '6', '7', '8']</td>\n",
       "      <td>38.75</td>\n",
       "      <td>[]</td>\n",
       "      <td>[]</td>\n",
       "      <td>[]</td>\n",
       "      <td>article</td>\n",
       "      <td>[0.1537874, -0.022676505, 0.17512001, -0.00576...</td>\n",
       "    </tr>\n",
       "  </tbody>\n",
       "</table>\n",
       "</div>"
      ],
      "text/plain": [
       "                                             summary  \\\n",
       "0  \\n This law aims to improve the European marke...   \n",
       "\n",
       "                         part_of                      title  \\\n",
       "0  Chapter I: General Provisions  Article 1: Subject Matter   \n",
       "\n",
       "                                      sub_title_info  \\\n",
       "0  \\n\\nDate of entry into force:\\n 2 February 202...   \n",
       "\n",
       "                                           full_text  \\\n",
       "0  \\n1. The purpose of this Regulation is to impr...   \n",
       "\n",
       "                 related_recitals  token_count mentioned_articles  \\\n",
       "0  ['1', '2', '3', '6', '7', '8']        38.75                 []   \n",
       "\n",
       "  mentioned_annexes mentioned_recitals     type  \\\n",
       "0                []                 []  article   \n",
       "\n",
       "                                       full_text_emb  \n",
       "0  [0.1537874, -0.022676505, 0.17512001, -0.00576...  "
      ]
     },
     "execution_count": 54,
     "metadata": {},
     "output_type": "execute_result"
    }
   ],
   "source": [
    "articles.head(1)"
   ]
  },
  {
   "cell_type": "code",
   "execution_count": 55,
   "metadata": {},
   "outputs": [],
   "source": [
    "# turn each full_text_emb to a list of floats\n",
    "articles['full_text_emb'] = articles['full_text_emb'].apply(lambda x: x.tolist())\n",
    "annexes['full_text_emb'] = annexes['full_text_emb'].apply(lambda x: x.tolist())\n",
    "recitals['full_text_emb'] = recitals['full_text_emb'].apply(lambda x: x.tolist())"
   ]
  },
  {
   "cell_type": "code",
   "execution_count": 56,
   "metadata": {},
   "outputs": [
    {
     "data": {
      "text/plain": [
       "1024"
      ]
     },
     "execution_count": 56,
     "metadata": {},
     "output_type": "execute_result"
    }
   ],
   "source": [
    "len(articles['full_text_emb'][0])"
   ]
  },
  {
   "cell_type": "code",
   "execution_count": 57,
   "metadata": {},
   "outputs": [],
   "source": [
    "# insert into neo4j\n",
    "for _, row in articles.iterrows():\n",
    "    query = \"\"\"\n",
    "    MATCH (a:Article {title: $title})\n",
    "    SET a.full_text_emb = $full_text_emb\n",
    "    \"\"\"\n",
    "    parameters = {\n",
    "        \"title\": row[\"title\"],\n",
    "        \"full_text_emb\": row[\"full_text_emb\"]\n",
    "    }\n",
    "    run_cypher_query(query, parameters)\n",
    "\n",
    "for _, row in annexes.iterrows():\n",
    "    query = \"\"\"\n",
    "    MATCH (a:Annex {title: $title})\n",
    "    SET a.full_text_emb = $full_text_emb\n",
    "    \"\"\"\n",
    "    parameters = {\n",
    "        \"title\": row[\"title\"],\n",
    "        \"full_text_emb\": row[\"full_text_emb\"]\n",
    "    }\n",
    "    run_cypher_query(query, parameters)\n",
    "\n",
    "for _, row in recitals.iterrows():\n",
    "    query = \"\"\"\n",
    "    MATCH (a:Recital {title: $title})\n",
    "    SET a.full_text_emb = $full_text_emb\n",
    "    \"\"\"\n",
    "    parameters = {\n",
    "        \"title\": row[\"title\"],\n",
    "        \"full_text_emb\": row[\"full_text_emb\"]\n",
    "    }\n",
    "    run_cypher_query(query, parameters)\n"
   ]
  },
  {
   "cell_type": "code",
   "execution_count": 58,
   "metadata": {},
   "outputs": [],
   "source": [
    "query = \"\"\"\n",
    "MATCH (n:Annex)  // Start with Annex nodes (you can repeat for Article and Recital)\n",
    "WITH n\n",
    "CREATE (e:EmbChunk {emb: n.full_text_emb, full_text: n.full_text, title: n.title})  // Create EmbChunk node with emb and full_text\n",
    "MERGE (n)-[:HAS_EMBCHUNK]->(e)  // Create a relationship between the original node and the EmbChunk\n",
    "\"\"\"\n",
    "run_cypher_query(query)"
   ]
  },
  {
   "cell_type": "code",
   "execution_count": 59,
   "metadata": {},
   "outputs": [],
   "source": [
    "query = \"\"\"\n",
    "MATCH (n:Article)\n",
    "WITH n\n",
    "CREATE (e:EmbChunk {emb: n.full_text_emb, full_text: n.full_text, title: n.title})\n",
    "MERGE (n)-[:HAS_EMBCHUNK]->(e)\n",
    "\"\"\"\n",
    "run_cypher_query(query)"
   ]
  },
  {
   "cell_type": "code",
   "execution_count": 60,
   "metadata": {},
   "outputs": [],
   "source": [
    "query = \"\"\"\n",
    "MATCH (n:Recital)\n",
    "WITH n\n",
    "CREATE (e:EmbChunk {emb: n.full_text_emb, full_text: n.full_text, title: n.title})\n",
    "MERGE (n)-[:HAS_EMBCHUNK]->(e)\n",
    "\"\"\"\n",
    "run_cypher_query(query)"
   ]
  },
  {
   "cell_type": "code",
   "execution_count": 63,
   "metadata": {},
   "outputs": [],
   "source": [
    "from langchain.graphs import Neo4jGraph\n",
    "\n",
    "url = 'neo4j://localhost:7687'\n",
    "username =\"neo4j\"\n",
    "password = \"ivanivan\"\n",
    "\n",
    "graph = Neo4jGraph(\n",
    "    url=url, \n",
    "    username=username, \n",
    "    password=password\n",
    ")"
   ]
  },
  {
   "cell_type": "code",
   "execution_count": 66,
   "metadata": {},
   "outputs": [
    {
     "name": "stderr",
     "output_type": "stream",
     "text": [
      "Received notification from DBMS server: {severity: WARNING} {code: Neo.ClientNotification.Statement.FeatureDeprecationWarning} {category: DEPRECATION} {title: This feature is deprecated and will be removed in future versions.} {description: The query used a deprecated procedure. ('db.create.setVectorProperty' has been replaced by 'db.create.setNodeVectorProperty')} {position: line: 1, column: 70, offset: 69} for query: \"UNWIND $data AS row MATCH (n:`EmbChunk`) WHERE elementId(n) = row.id CALL db.create.setVectorProperty(n, 'emb2', row.embedding) YIELD node RETURN count(*)\"\n"
     ]
    }
   ],
   "source": [
    "import os\n",
    "from langchain.vectorstores.neo4j_vector import Neo4jVector\n",
    "from langchain.embeddings.openai import OpenAIEmbeddings\n",
    "\n",
    "os.environ['OPENAI_API_KEY'] = \"OPENAI_API_KEY\"\n",
    "\n",
    "vector_index = Neo4jVector.from_existing_graph(\n",
    "    OpenAIEmbeddings(),\n",
    "    url=url,\n",
    "    username=username,\n",
    "    password=password,\n",
    "    index_name='aiActTest',\n",
    "    node_label=\"EmbChunk\",\n",
    "    text_node_properties=['title', 'full_text'],\n",
    "    embedding_node_property='emb2',\n",
    ")"
   ]
  },
  {
   "cell_type": "code",
   "execution_count": 74,
   "metadata": {},
   "outputs": [
    {
     "name": "stdout",
     "output_type": "stream",
     "text": [
      "\n",
      "title: Recital 37\n",
      "full_text: \n",
      "Furthermore, it is appropriate to provide, within the exhaustive framework set by this Regulation that such use in the territory of a Member State in accordance with this Regulation should only be possible where and in as far as the Member State concerned has decided to expressly provide for the possibility to authorise such use in its detailed rules of national law. Consequently, Member States remain free under this Regulation not to provide for such a possibility at all or to only provide for such a possibility in respect of some of the objectives capable of justifying authorised use identified in this Regulation. Such national rules should be notified to the Commission within 30 days of their adoption.\n",
      "\n"
     ]
    }
   ],
   "source": [
    "response = vector_index.similarity_search(\n",
    "    \"Recital 12\",\n",
    ")\n",
    "print(response[0].page_content)"
   ]
  },
  {
   "cell_type": "code",
   "execution_count": 80,
   "metadata": {},
   "outputs": [
    {
     "data": {
      "text/plain": [
       "'Recital 4 highlights the wide-ranging benefits of AI technologies across various industries and social activities. It mentions how AI can improve prediction, optimize operations, personalize solutions, and provide competitive advantages to businesses. The recital also emphasizes the positive impacts of AI in areas such as healthcare, agriculture, food safety, education, media, sports, infrastructure management, energy, transport, public services, security, justice, environmental monitoring, biodiversity conservation, and climate change mitigation.'"
      ]
     },
     "execution_count": 80,
     "metadata": {},
     "output_type": "execute_result"
    }
   ],
   "source": [
    "from langchain.chains import RetrievalQA\n",
    "from langchain_openai import ChatOpenAI\n",
    "\n",
    "vector_qa = RetrievalQA.from_chain_type(\n",
    "    llm=ChatOpenAI(),\n",
    "    chain_type=\"stuff\",\n",
    "    retriever=vector_index.as_retriever()\n",
    ")\n",
    "vector_qa.run(\n",
    "    \"Tell me about Recital 4\"\n",
    ")"
   ]
  },
  {
   "cell_type": "code",
   "execution_count": 104,
   "metadata": {},
   "outputs": [
    {
     "name": "stdout",
     "output_type": "stream",
     "text": [
      "input_variables=['question'] input_types={} partial_variables={} template=\"Task:Generate Cypher statement to query a graph database.\\nInstructions:\\nUse only the provided relationship types and properties in the schema.\\nDo not use any other relationship types or properties that are not provided.\\nUse the provided schema to construct the Cypher statement.\\n\\nSchema:\\nNodes: Annex, AnnexSummary, Article, ArticleSummary, Chapter, EmbChunk, Recital\\nRelationships:\\n- HAS_EMBCHUNK: Connects Annex, Article, or Recital nodes to their corresponding EmbChunk nodes.\\n- HAS_SUMMARY: Connects Annex and Article nodes to their corresponding AnnexSummary and ArticleSummary nodes.\\n- MENTIONS: Represents a mention relationship between nodes, such as Article -> Recital or Recital -> Annex.\\n- PART_OF: Represents the relationship between Article nodes and Chapter nodes.\\n- RELATES_TO: Represents which Annex, Article, and Recital nodes relate to each other's content\\n\\nNote: Do not include any explanations or apologies in your responses.\\nDo not respond to any questions that might ask anything else than for you to construct a Cypher statement.\\nDo not include any text except the generated Cypher statement.\\n\\nThe question is:\\n{question}\"\n"
     ]
    }
   ],
   "source": [
    "from langchain.chains import GraphCypherQAChain\n",
    "from langchain_core.prompts.prompt import PromptTemplate\n",
    "\n",
    "CYPHER_GENERATION_TEMPLATE = \"\"\"Task:Generate Cypher statement to query a graph database.\n",
    "Instructions:\n",
    "Use only the provided relationship types and properties in the schema.\n",
    "Do not use any other relationship types or properties that are not provided.\n",
    "Use the provided schema to construct the Cypher statement.\n",
    "\n",
    "Schema:\n",
    "Nodes: Annex, AnnexSummary, Article, ArticleSummary, Chapter, EmbChunk, Recital\n",
    "Relationships:\n",
    "- HAS_EMBCHUNK: Connects Annex, Article, or Recital nodes to their corresponding EmbChunk nodes.\n",
    "- HAS_SUMMARY: Connects Annex and Article nodes to their corresponding AnnexSummary and ArticleSummary nodes.\n",
    "- MENTIONS: Represents a mention relationship between nodes, such as Article -> Recital or Recital -> Annex.\n",
    "- PART_OF: Represents the relationship between Article nodes and Chapter nodes.\n",
    "- RELATES_TO: Represents which Annex, Article, and Recital nodes relate to each other's content\n",
    "\n",
    "Note: Do not include any explanations or apologies in your responses.\n",
    "Do not respond to any questions that might ask anything else than for you to construct a Cypher statement.\n",
    "Do not include any text except the generated Cypher statement.\n",
    "\n",
    "The question is:\n",
    "{question}\"\"\"\n",
    "\n",
    "CYPHER_GENERATION_PROMPT = PromptTemplate(\n",
    "    input_variables=[\"question\"], template=CYPHER_GENERATION_TEMPLATE\n",
    ")\n",
    "\n",
    "print(CYPHER_GENERATION_PROMPT)\n",
    "\n",
    "chain = GraphCypherQAChain.from_llm(\n",
    "    graph=graph,\n",
    "    cypher_llm=ChatOpenAI(temperature=0, model=\"gpt-3.5-turbo\"),\n",
    "    qa_llm=ChatOpenAI(temperature=0, model=\"gpt-3.5-turbo-16k\"),\n",
    "    verbose=True,\n",
    "    validate_cypher=True,\n",
    "    allow_dangerous_requests=True,\n",
    ")"
   ]
  },
  {
   "cell_type": "code",
   "execution_count": 106,
   "metadata": {},
   "outputs": [
    {
     "name": "stdout",
     "output_type": "stream",
     "text": [
      "\n",
      "\n",
      "\u001b[1m> Entering new GraphCypherQAChain chain...\u001b[0m\n",
      "Generated Cypher:\n",
      "\u001b[32;1m\u001b[1;3mMATCH (r:Recital {title: \"Recital 5\"}) \n",
      "RETURN r;\u001b[0m\n",
      "Full Context:\n",
      "\u001b[32;1m\u001b[1;3m[{'r': {'mentioned_recitals': [], 'full_text': '\\nAt the same time, depending on the circumstances regarding its specific application, use, and level of technological development, AI may generate risks and cause harm to public interests and fundamental rights that are protected by Union law. Such harm might be material or immaterial, including physical, psychological, societal or economic harm.\\n', 'mentioned_annexes': '[]', 'mentioned_articles': '[]', 'full_text_emb': [-0.35610541701316833, -0.2638675570487976, -0.12158089876174927, -0.07926656305789948, 0.09562814235687256, -0.7663165926933289, -0.30521273612976074, -0.668542742729187, 0.33751535415649414, 0.6081407070159912, 0.36248794198036194, 0.103215292096138, 0.6535177230834961, -0.5733231902122498, -0.09368976950645447, -0.3564795255661011, -0.1644134223461151, -0.21945637464523315, -0.1799222081899643, 0.30768346786499023, 0.4338802099227905, 0.10861143469810486, -0.38307973742485046, -0.7214238047599792, -0.6209895014762878, 0.5547594428062439, 0.7822785377502441, -0.11540330946445465, 0.9731410145759583, 0.3065423369407654, -0.5289855003356934, -0.4071738123893738, 0.014699237421154976, -0.585210382938385, -0.24155905842781067, -0.132188618183136, 0.7579760551452637, -0.5976073741912842, -0.01566779986023903, -0.5169394016265869, 0.8711877465248108, -0.028049737215042114, 0.5198531746864319, -1.6035605669021606, -0.7018679976463318, -0.01237870380282402, 0.3823417127132416, -0.3821004331111908, 0.00675368495285511, -0.28310492634773254, 0.13048890233039856, 0.47223666310310364, 0.22543981671333313, -0.10424759238958359, 0.05836373567581177, -0.7241079807281494, 0.1759175956249237, -0.39333391189575195, -0.5955380201339722, 0.24857434630393982, 0.2557491660118103, -0.3909182846546173, 0.7337089776992798, -0.31537359952926636, 0.5730140805244446, 0.0386110283434391, -0.16410742700099945, -0.4369484782218933, -0.37811386585235596, 0.012967854738235474, -0.4865036606788635, 0.8166610598564148, -0.2638980746269226, -0.06164875626564026, 0.11930808424949646, -0.3022930920124054, 0.0753277838230133, -0.6568150520324707, -0.3228733241558075, -0.26982152462005615, -0.261165976524353, 0.36832568049430847, 0.09102949500083923, 0.032803699374198914, -0.13815920054912567, 0.20560288429260254, 0.31101077795028687, 0.7247028946876526, 0.3432616591453552, -0.5972872376441956, -0.10819822549819946, 0.02607182413339615, -0.3872750699520111, 0.14003729820251465, 0.21060724556446075, 1.1147619485855103, -0.25680863857269287, 0.643198549747467, -0.668461263179779, 0.15150414407253265, 0.7739797234535217, 1.1105376482009888, -0.51542729139328, 1.3842082023620605, -0.6421483755111694, 0.4452587068080902, 0.46672049164772034, -0.19179627299308777, 0.1591673195362091, -0.6923978328704834, 0.3491757810115814, 0.3008466958999634, -0.45379799604415894, -0.594448983669281, -0.4389477074146271, 0.5940160751342773, -0.3366144001483917, 0.4145285487174988, -0.6623837351799011, 0.9931963682174683, -0.10149809718132019, -0.08442443609237671, 0.692344605922699, -0.5017035007476807, 0.07611032575368881, -0.007428664714097977, 0.24588176608085632, 0.5475669503211975, -0.22341272234916687, -0.036686010658741, 0.296026349067688, 0.1590358018875122, -0.363882452249527, 0.21786867082118988, -0.3026924133300781, 0.22359821200370789, 0.19754555821418762, 1.2428797483444214, 0.690670907497406, 0.058140143752098083, -0.2504007816314697, 0.061170682311058044, 0.2660120129585266, 1.016442894935608, -0.14627337455749512, 0.13193701207637787, 0.13607537746429443, 0.13837558031082153, -0.2802296280860901, 0.10200255364179611, -0.7225528359413147, -0.36048638820648193, 0.85054612159729, 0.36709293723106384, -0.40168383717536926, -0.5012994408607483, -0.3568442463874817, 0.01200278103351593, 0.247144415974617, 0.21277712285518646, -0.0846664234995842, 0.6593148708343506, -0.40782836079597473, 0.42758071422576904, 0.44624680280685425, 0.004805196076631546, -0.7508550882339478, 0.5276104211807251, -0.04016381502151489, -0.03252596780657768, 0.761572003364563, 0.177789568901062, -0.8031052947044373, 0.11491673439741135, 0.6254794597625732, 0.2890612483024597, 0.6406311988830566, 0.20468802750110626, 0.47178414463996887, -0.3803968131542206, -0.4239729642868042, 0.2626602351665497, -0.03541111946105957, 0.729102373123169, 0.0067295534536242485, -0.12455999106168747, -0.5794239044189453, 0.06242242455482483, -0.13075628876686096, -0.03789356350898743, 0.38383835554122925, -0.0319528728723526, -0.7556195855140686, 0.13715481758117676, 0.20407599210739136, 0.6004854440689087, -0.3729005455970764, 0.4362032115459442, 0.3192656636238098, -1.0454319715499878, -0.44822973012924194, 0.23991389572620392, 0.17126992344856262, 0.2626578211784363, 0.0066839344799518585, 0.03663012385368347, -0.17893238365650177, 0.4045761823654175, -0.5958971381187439, 0.6350520849227905, 0.2518137991428375, 0.034067682921886444, 0.2756129205226898, -0.4896466135978699, 0.4221402108669281, 0.28915145993232727, -0.4967738389968872, 0.12808771431446075, -0.2088315784931183, -0.027541575953364372, -0.43371593952178955, -0.1609610617160797, -0.2977212071418762, -0.14493264257907867, -0.46128135919570923, -0.5042442679405212, 0.23551014065742493, 0.10588334500789642, 0.2116815149784088, -0.7442593574523926, 0.8351506590843201, 0.36528363823890686, -0.018019329756498337, -0.10906671732664108, 0.11528098583221436, 0.04472200572490692, -0.23261985182762146, 0.1722838580608368, 0.11932748556137085, 0.18027164041996002, -0.3019190728664398, 0.8825100064277649, 0.7336078882217407, 0.774725615978241, -0.15719638764858246, -0.08148190379142761, -0.013979930430650711, 0.3550151288509369, 0.30048221349716187, 0.7520132660865784, -0.6398077011108398, -0.2292841374874115, 0.10017099976539612, -0.02110588178038597, -0.7433472871780396, 0.2699606418609619, 0.6053692698478699, 0.27757567167282104, -0.48916345834732056, -1.8600400686264038, -0.5183655023574829, 0.8767016530036926, -0.008303402923047543, 0.011121317744255066, 0.8632978796958923, 0.28136199712753296, 0.5309305787086487, 0.22043563425540924, -0.8283801674842834, -0.07296224683523178, -1.2605881690979004, -0.25699272751808167, -0.706171989440918, -0.289828896522522, -0.9436097741127014, -0.2417747527360916, 0.010297030210494995, -0.714234471321106, 0.9178748726844788, -0.567229688167572, -0.49581533670425415, 0.3383873403072357, 0.021761029958724976, 0.5909548401832581, -0.023284191265702248, 0.7058103680610657, -1.5086606740951538, 0.5166689157485962, -0.4909493327140808, 0.2943302094936371, 0.8613746762275696, -0.4123094379901886, -0.563427209854126, -0.4027295708656311, 0.5975538492202759, -0.35208916664123535, 0.4779013991355896, 0.10084041208028793, -0.6306354403495789, -0.2567532956600189, 0.5037820339202881, -0.35052570700645447, -0.3375408351421356, -0.2687229514122009, -0.34361982345581055, 0.2197001874446869, 0.5026208162307739, 0.04464436322450638, 0.8814941048622131, -0.39045578241348267, -1.0559204816818237, -0.12356692552566528, -0.5869591236114502, 0.6432022452354431, -0.3350669741630554, 0.5776361227035522, 0.43438446521759033, -0.14796596765518188, 0.33230507373809814, -0.4864199757575989, -0.5007047653198242, 0.04720699042081833, -0.34838107228279114, -0.2393275946378708, -0.30260169506073, -0.017114341259002686, 0.7613736987113953, -1.6073576211929321, 0.029547525569796562, -0.281028151512146, -0.3641633987426758, -0.3927430510520935, 0.5032115578651428, 0.2336888164281845, -0.28883233666419983, 0.05686413496732712, 0.20474648475646973, -0.4225922226905823, -0.7857733368873596, -0.42333340644836426, 0.23884670436382294, -0.19359803199768066, 0.43453454971313477, -0.12467281520366669, -0.5473744869232178, 0.895121693611145, 1.1195473670959473, -0.13162951171398163, 0.9977070093154907, -0.11775811016559601, -0.03247915953397751, 0.17908835411071777, -0.24329932034015656, -0.19114726781845093, 0.3674711287021637, 0.69791179895401, -0.6934157013893127, 0.17469710111618042, -0.05296189710497856, -0.16176238656044006, 1.0255616903305054, 0.24433523416519165, 0.0013474524021148682, 0.22654378414154053, -0.3716318607330322, 0.19178828597068787, 0.20763739943504333, -0.5771963000297546, 0.6002464294433594, -0.13014169037342072, 0.5176734924316406, -0.3297492563724518, -0.47860193252563477, 0.37070611119270325, -0.23604130744934082, -0.5862483978271484, 0.9725936651229858, -0.17744876444339752, 0.6926409006118774, -0.6479059457778931, 0.03969429060816765, 0.5856829285621643, 0.4009522497653961, 0.11816541850566864, -0.02336384542286396, 0.7032119631767273, -0.8446823358535767, 1.0039242506027222, -0.15850937366485596, -0.017323575913906097, 0.11675052344799042, -0.9866721630096436, -0.07878172397613525, 0.5425447225570679, -0.5058020949363708, -0.8956113457679749, 0.648441731929779, 0.19307377934455872, 0.7196650505065918, -0.5266543626785278, 1.6102668046951294, -0.19387134909629822, -0.12367409467697144, 0.30104950070381165, -0.3639073073863983, -0.7439595460891724, -0.5097931027412415, 0.445123553276062, -0.333187073469162, -0.42603403329849243, 0.26599064469337463, 0.021831803023815155, 0.004762269556522369, -0.13668303191661835, -0.042123425751924515, 0.2100779116153717, 0.2005029320716858, -0.4048319458961487, -0.28898751735687256, -0.078627809882164, -0.78704833984375, 0.08754649758338928, -0.13734731078147888, 0.6609290838241577, 0.7226101756095886, -0.510513186454773, -0.33466586470603943, -0.5441787838935852, 0.7981391549110413, 0.8669182062149048, 0.18195994198322296, -0.6811959147453308, -0.10513189435005188, -1.0659067630767822, -0.2213696986436844, -0.349536269903183, 0.9772695302963257, -0.45699021220207214, 0.16410262882709503, -0.01283569261431694, 0.3390570282936096, 0.7572983503341675, 0.05681515112519264, -0.571631908416748, -0.7670115232467651, -0.45070552825927734, -0.41670000553131104, 0.4063962399959564, 0.0032669324427843094, -0.6370164155960083, 0.289867639541626, -0.6319456696510315, 0.39790278673171997, -0.8600524067878723, 0.10664030909538269, -0.3885776400566101, 0.7303614616394043, -0.4998977780342102, 0.1186283677816391, -0.095207579433918, -0.3543338179588318, -0.32365044951438904, 0.5129085183143616, -1.091536045074463, -0.10539419949054718, 0.1416761577129364, -0.31675949692726135, -0.13753589987754822, 0.7261132001876831, -0.06546877324581146, 0.09306807070970535, -0.04614968225359917, 0.39386847615242004, -0.25416162610054016, 0.45710453391075134, -0.40197306871414185, -0.0527791902422905, -0.022017166018486023, -0.42952921986579895, -0.5525891184806824, -0.06851984560489655, 0.3603960871696472, -0.11897259950637817, -0.6553352475166321, -0.9140232801437378, -0.969272255897522, -0.17221571505069733, 0.3602980375289917, -0.6608883738517761, 0.3012835383415222, -0.09960518777370453, 0.28599944710731506, 0.3522742986679077, 0.32551658153533936, -0.33860865235328674, 0.5378503203392029, 0.006212517619132996, -0.18144895136356354, 0.16545403003692627, 0.04053393006324768, 0.6233259439468384, 0.1362992525100708, -0.25710591673851013, -0.5100260972976685, -0.06127411872148514, -0.18807709217071533, -0.40983912348747253, -0.49433884024620056, 1.1731750965118408, 0.4022309482097626, -0.7635286450386047, 0.06388996541500092, 0.11736299097537994, 0.6249496936798096, 0.5296662449836731, 0.04790093004703522, 0.7089301347732544, -0.021240532398223877, -0.5999776124954224, 0.7223942875862122, 0.29145514965057373, -0.7749025821685791, -0.3170233964920044, 0.8849078416824341, -0.46904921531677246, -0.5236536860466003, 0.06517719477415085, -0.938528835773468, -0.4359946548938751, -2.084199905395508, 0.41266047954559326, -0.35320839285850525, 0.08471766859292984, -0.893825113773346, -0.10370457172393799, -0.042071595788002014, 0.2267208844423294, 0.33455416560173035, -0.37122488021850586, -0.8353686332702637, -0.5011806488037109, 0.919082760810852, 0.37317728996276855, -0.08937133848667145, -0.4365193247795105, -0.7373162508010864, 0.13293752074241638, 0.6505321860313416, 0.6761941909790039, 0.1664573848247528, 0.18328437209129333, -0.13569626212120056, 0.0056053586304187775, 0.743826687335968, -0.153403177857399, -0.25803813338279724, -0.7593675255775452, 0.7737343311309814, 0.15315349400043488, 1.0224859714508057, -0.24588140845298767, 0.1440538763999939, 0.3817894756793976, -0.45309683680534363, -0.004607904702425003, -0.13662579655647278, 0.06623335182666779, -0.5145910978317261, 1.2285985946655273, -0.8051078915596008, 0.32280778884887695, -0.4185534119606018, 0.676962673664093, 0.569687008857727, 0.25596538186073303, -0.12314076721668243, -0.021613389253616333, -0.7922548651695251, -1.001386046409607, 0.23575390875339508, -0.12958945333957672, -0.6938843727111816, -0.45553749799728394, -0.5997008681297302, 0.15234017372131348, -1.3192349672317505, -0.10173645615577698, 0.7793815732002258, 0.7525302171707153, -0.8889838457107544, 0.21196112036705017, 0.28535884618759155, 0.16766780614852905, -0.2761397957801819, -0.6467264294624329, 0.2438667118549347, -0.014089604839682579, -0.5968124270439148, -0.7479966878890991, -0.07538808882236481, -0.9010427594184875, 0.468149870634079, 0.5935176014900208, -0.5252673625946045, 0.8135128617286682, -0.011784184724092484, 0.18094073235988617, -1.2662489414215088, 0.39701515436172485, -0.28728023171424866, 0.5313094854354858, 0.5141173005104065, 0.2734849154949188, -0.060827963054180145, 0.36194542050361633, -0.370429664850235, -0.7574641704559326, -0.4618813991546631, 1.0571054220199585, 0.0847589373588562, -0.5751210451126099, -0.21932432055473328, 0.4589906632900238, -0.49376600980758667, -0.11707271635532379, -0.5460479259490967, -0.29346784949302673, 0.10532471537590027, -0.9415096044540405, 0.5946255922317505, -0.16454918682575226, 0.021192774176597595, -0.23230135440826416, 0.5858181118965149, -0.2423851639032364, 0.9544722437858582, 0.6495230793952942, 0.2781111001968384, 0.020636964589357376, 0.3229822516441345, 0.3322336673736572, 0.16000045835971832, 0.2749801576137543, -0.9132803678512573, -0.3450887203216553, 0.0007367394864559174, -0.07370156049728394, 1.2589776515960693, -0.7175509929656982, -0.2743281424045563, 0.731451153755188, -0.07206995040178299, 0.6045250296592712, -0.8954290747642517, 0.3307513892650604, 0.6196750402450562, -0.10707886517047882, 0.06477373093366623, -0.5086925625801086, -0.09173178672790527, -0.23021695017814636, 0.07642346620559692, -0.2609311044216156, -0.19306817650794983, 0.4348384141921997, 0.9644213914871216, 0.1247972771525383, -0.09307406097650528, -0.4331953227519989, -1.2120890617370605, -0.16564473509788513, 0.06019137054681778, 0.8127452731132507, -0.1767980456352234, 0.6955451369285583, -0.28166234493255615, -0.6710013747215271, -0.3884822130203247, 0.5608943700790405, -0.41588157415390015, -0.7690622210502625, -0.6986578106880188, 0.186918705701828, -0.026599925011396408, -0.6580080389976501, 0.30122023820877075, -0.2800367474555969, -0.07615968585014343, 0.42624014616012573, -0.38429659605026245, 0.4069652259349823, -0.8618528842926025, 0.7463608980178833, -0.36879363656044006, -0.44748228788375854, 0.043379172682762146, -0.1396380364894867, -0.15441852807998657, -0.03209599107503891, -0.17308366298675537, 0.04248641058802605, 0.40048736333847046, 0.13700729608535767, 0.9106861352920532, -0.482997328042984, 0.40308478474617004, -0.3795316517353058, 0.10187176614999771, 0.3122389316558838, -0.25907549262046814, 0.6350188851356506, -0.7494664192199707, 0.25202202796936035, -0.07649502903223038, -0.3655872046947479, -0.03322858735918999, 0.015496905893087387, -0.4716198444366455, -0.27658551931381226, -0.08919347822666168, 0.2588629126548767, -0.23989282548427582, 0.33634573221206665, -0.07998982071876526, 0.10882914066314697, 0.5649914145469666, -0.7807178497314453, 0.8647666573524475, -0.43670040369033813, 0.5080642700195312, -0.7330889105796814, -0.9078235626220703, 0.06344396620988846, -0.0026175808161497116, -0.3324734568595886, 0.2548791170120239, 0.023284602910280228, -0.3514830470085144, 0.2515721023082733, 0.34084179997444153, 0.8434463143348694, 0.9450012445449829, 1.065801739692688, -0.06620845198631287, -0.2603050172328949, -0.7129590511322021, -0.1524086594581604, -0.9382262229919434, -0.4887687861919403, 0.5692185163497925, -0.08540643751621246, -0.06546558439731598, 0.1386691927909851, -0.5553963780403137, -0.6298369765281677, -0.07563970983028412, -0.7901632785797119, 0.10495497286319733, 0.5145047903060913, -0.22205761075019836, 0.21381202340126038, -0.5788320899009705, -0.7464266419410706, -0.5976558923721313, 0.42415109276771545, -0.2440803498029709, -0.8181787729263306, 0.10089634358882904, 0.7684645056724548, -0.5978485345840454, -0.09881868958473206, -0.4342736005783081, 0.34126630425453186, -0.5382260084152222, -0.168340265750885, 0.13200801610946655, 0.09752523899078369, -0.6135571599006653, 0.356360524892807, 0.9834833145141602, 1.0186841487884521, -0.44371482729911804, 0.7636993527412415, 0.41635480523109436, -0.49340811371803284, -0.4720964729785919, -0.2913770377635956, 0.3427955210208893, -0.2660989463329315, 0.1836106926202774, -0.1319887340068817, 0.6861986517906189, 0.2485436648130417, 0.5346449613571167, 0.039752617478370667, 0.41872408986091614, -0.0988897904753685, -0.08877240121364594, 0.18114861845970154, 0.7673470377922058, 1.0797406435012817, -0.34726133942604065, -0.10368121415376663, 0.13199102878570557, -0.06102319806814194, -0.14598730206489563, -0.1539645493030548, -0.5568888783454895, 0.8727942109107971, -0.7678334712982178, -1.0902031660079956, -0.23311668634414673, -0.5779637694358826, -0.13948114216327667, -0.9148253798484802, -0.7666395306587219, 0.7597436904907227, 0.4675009846687317, -0.392444908618927, -0.33736616373062134, 0.1089564859867096, 0.3123352527618408, -0.02836519479751587, 0.4126114249229431, 0.16295337677001953, 0.7783531546592712, 0.07974348217248917, 0.5314458012580872, 0.17135843634605408, -0.2720537483692169, -0.22090736031532288, 0.10455352813005447, 0.048261791467666626, 0.2148936539888382, 0.3777778148651123, 0.24992452561855316, -0.32278111577033997, 0.14192862808704376, 0.7124399542808533, 0.4590936303138733, -0.2975720465183258, -0.45571842789649963, -0.9493792653083801, 0.7686307430267334, -0.18744319677352905, 0.7537440061569214, -0.9214672446250916, 0.340636283159256, 0.558391809463501, 0.03635735809803009, -0.6559848785400391, 0.6059977412223816, -0.1945687234401703, 0.3098478615283966, 0.6685663461685181, 0.6549381613731384, 0.2255467176437378, 0.832955002784729, 1.323005199432373, -0.3859986960887909, -0.1374005675315857, 0.655978262424469, -0.06241811811923981, 0.11156295239925385, -0.11454147845506668, -0.4040081799030304, -0.1089465469121933, 0.3516310751438141, -0.6328697204589844, -0.20883387327194214, -0.29873886704444885, 0.4955602288246155, -0.26127636432647705, -0.16795122623443604, 0.2647572159767151, -0.17703808844089508, -0.3533153831958771, -0.6251749992370605, 0.5663808584213257, 0.6334848403930664, 0.0020520295947790146, 0.583238959312439, -0.181155264377594, 0.20676425099372864, -1.0880435705184937, 0.48019856214523315, -0.06159500777721405, -0.8134835362434387, -0.4482189416885376, -0.3873572051525116, 0.018878189846873283, -0.5162511467933655, 0.3223954737186432, 0.258124977350235, 0.4499453008174896, 0.5685191750526428, 0.1465648114681244, 0.2466890811920166, -0.2803930640220642, -0.6776419878005981, 0.6568604707717896, 0.6268056035041809, -0.0646730363368988, 0.6776717305183411, 0.5995233058929443, 0.6514943242073059, 0.47526252269744873, -0.48345959186553955, -0.18903930485248566, -0.156828835606575, -0.3059840798377991, -0.006504587829113007, -0.5518167018890381, -0.31321489810943604, -0.2897484302520752, 0.8418731689453125, 0.9432786107063293, 0.615831732749939, 0.4311765134334564, -0.7795189619064331, -0.11178900301456451, -0.7962427139282227, 0.6780117154121399, -0.3164536654949188, -0.33993861079216003, -0.31658464670181274, 0.12116827070713043, 0.0877963975071907, -0.7151129841804504, 4.265636444091797, 0.5916695594787598, 0.2981637418270111, -0.03999686986207962, 0.8294301629066467, 1.269238829612732, 0.23475299775600433, 0.02308902144432068, -0.039279092103242874, 0.026803314685821533, 0.25578221678733826, -0.1263560950756073, 0.5054200887680054, 0.1958286613225937, 0.20694470405578613, 0.09129927307367325, -0.8583217263221741, -0.018983080983161926, -0.04307122528553009, -0.45215606689453125, -0.8819919228553772, -0.0563276931643486, 0.16932421922683716, 0.09199570119380951, 0.3423331379890442, 0.28902000188827515, 0.8940363526344299, -0.37294694781303406, -0.39396801590919495, -0.4849144220352173, 0.38648298382759094, -0.8877500891685486, -0.3099672198295593, -0.718635618686676, -0.14012226462364197, 0.3244454562664032, -0.1373593807220459, -0.17145542800426483, -0.5505481958389282, 0.47229793667793274, -0.3720472455024719, -0.273002952337265, -0.9495317339897156, -0.12597012519836426, -0.22351394593715668, 0.04787673428654671, 0.04710736125707626, 0.44084370136260986, 1.124678373336792, -0.8727601766586304, 0.2531202435493469, -0.6748520135879517, 0.4610382914543152, -0.32020604610443115, 0.11413486301898956, 0.2306615114212036, -1.0431163311004639, -0.40932497382164, -0.5358327031135559, 0.009364284574985504, -0.036808378994464874, -0.602777361869812, 0.3737553656101227, 0.05452495813369751, -0.14955070614814758, 0.004652634263038635, 0.04529411718249321, 0.14252930879592896, 0.09082971513271332, 0.7111030220985413, -0.23122037947177887, 0.855013906955719, -0.029598768800497055, -0.3514024615287781, 0.5004740953445435, 0.20710185170173645, -0.13686561584472656, 0.8481519222259521, 0.27553674578666687, 0.008253663778305054, -0.50564044713974, 0.006308406591415405, -0.08914871513843536, 0.1905544102191925, 0.32982200384140015, 0.4547709822654724, 0.06397652626037598, -0.36543601751327515, -0.060842420905828476, -0.15900853276252747, -0.1573268473148346, 0.3588695526123047, 0.344780832529068, 0.11445632576942444, -0.48462679982185364], 'title': 'Recital 5', 'related_content': nan}}]\u001b[0m\n",
      "\n",
      "\u001b[1m> Finished chain.\u001b[0m\n"
     ]
    },
    {
     "data": {
      "text/plain": [
       "{'query': 'tell me about Recital 5',\n",
       " 'result': 'Recital 5 states that depending on the circumstances regarding its specific application, use, and level of technological development, AI may generate risks and cause harm to public interests and fundamental rights that are protected by Union law. This harm can be material or immaterial, including physical, psychological, societal, or economic harm.'}"
      ]
     },
     "execution_count": 106,
     "metadata": {},
     "output_type": "execute_result"
    }
   ],
   "source": [
    "chain.invoke({\"query\": \"tell me about Recital 5\"})"
   ]
  },
  {
   "cell_type": "code",
   "execution_count": 107,
   "metadata": {},
   "outputs": [],
   "source": [
    "# make Article title contain just a number\n",
    "query = \"\"\"\n",
    "MATCH (a:Article)\n",
    "SET a.full_title = a.title, \n",
    "    a.title = split(a.title, \":\")[0]\n",
    "\"\"\"\n",
    "\n",
    "run_cypher_query(query)"
   ]
  },
  {
   "cell_type": "code",
   "execution_count": null,
   "metadata": {},
   "outputs": [],
   "source": []
  }
 ],
 "metadata": {
  "kernelspec": {
   "display_name": "base",
   "language": "python",
   "name": "python3"
  },
  "language_info": {
   "codemirror_mode": {
    "name": "ipython",
    "version": 3
   },
   "file_extension": ".py",
   "mimetype": "text/x-python",
   "name": "python",
   "nbconvert_exporter": "python",
   "pygments_lexer": "ipython3",
   "version": "3.11.9"
  }
 },
 "nbformat": 4,
 "nbformat_minor": 2
}
